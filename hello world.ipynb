{
 "cells": [
  {
   "cell_type": "code",
   "execution_count": 5,
   "metadata": {},
   "outputs": [
    {
     "name": "stdout",
     "output_type": "stream",
     "text": [
      "Hello World\n"
     ]
    }
   ],
   "source": [
    "%%bash\n",
    "echo \"Hello World\""
   ]
  },
  {
   "cell_type": "code",
   "execution_count": 12,
   "metadata": {},
   "outputs": [
    {
     "data": {
      "text/plain": [
       "10715086071862673209484250490600018105614048117055336074437503883703510511249361224931983788156958581275946729175531468251871452856923140435984577574698574803934567774824230985421074605062371141877954182153046474983581941267398767559165543946077062914571196477686542167660429831652624386837205668069376"
      ]
     },
     "execution_count": 12,
     "metadata": {},
     "output_type": "execute_result"
    }
   ],
   "source": [
    "import math\n",
    "math.pi\n",
    "2**1000"
   ]
  },
  {
   "cell_type": "code",
   "execution_count": 14,
   "metadata": {},
   "outputs": [
    {
     "name": "stdout",
     "output_type": "stream",
     "text": [
      "-rw-r--r--   1 bsc  staff      912 13 Feb 19:24 config.py\n",
      "-rw-r--r--   1 bsc  staff     2275  9 Mär 22:16 convert_images.py\n"
     ]
    }
   ],
   "source": [
    "%%bash\n",
    "ls -l | grep \" c\""
   ]
  },
  {
   "cell_type": "code",
   "execution_count": 1,
   "metadata": {},
   "outputs": [
    {
     "data": {
      "application/json": {
       "cell": {
        "!": "OSMagics",
        "HTML": "Other",
        "SVG": "Other",
        "bash": "Other",
        "capture": "ExecutionMagics",
        "debug": "ExecutionMagics",
        "file": "Other",
        "html": "DisplayMagics",
        "javascript": "DisplayMagics",
        "js": "DisplayMagics",
        "latex": "DisplayMagics",
        "markdown": "DisplayMagics",
        "perl": "Other",
        "prun": "ExecutionMagics",
        "pypy": "Other",
        "python": "Other",
        "python2": "Other",
        "python3": "Other",
        "ruby": "Other",
        "script": "ScriptMagics",
        "sh": "Other",
        "svg": "DisplayMagics",
        "sx": "OSMagics",
        "system": "OSMagics",
        "time": "ExecutionMagics",
        "timeit": "ExecutionMagics",
        "writefile": "OSMagics"
       },
       "line": {
        "alias": "OSMagics",
        "alias_magic": "BasicMagics",
        "autoawait": "AsyncMagics",
        "autocall": "AutoMagics",
        "automagic": "AutoMagics",
        "autosave": "KernelMagics",
        "bookmark": "OSMagics",
        "cat": "Other",
        "cd": "OSMagics",
        "clear": "KernelMagics",
        "colors": "BasicMagics",
        "config": "ConfigMagics",
        "connect_info": "KernelMagics",
        "cp": "Other",
        "debug": "ExecutionMagics",
        "dhist": "OSMagics",
        "dirs": "OSMagics",
        "doctest_mode": "BasicMagics",
        "ed": "Other",
        "edit": "KernelMagics",
        "env": "OSMagics",
        "gui": "BasicMagics",
        "hist": "Other",
        "history": "HistoryMagics",
        "killbgscripts": "ScriptMagics",
        "ldir": "Other",
        "less": "KernelMagics",
        "lf": "Other",
        "lk": "Other",
        "ll": "Other",
        "load": "CodeMagics",
        "load_ext": "ExtensionMagics",
        "loadpy": "CodeMagics",
        "logoff": "LoggingMagics",
        "logon": "LoggingMagics",
        "logstart": "LoggingMagics",
        "logstate": "LoggingMagics",
        "logstop": "LoggingMagics",
        "ls": "Other",
        "lsmagic": "BasicMagics",
        "lx": "Other",
        "macro": "ExecutionMagics",
        "magic": "BasicMagics",
        "man": "KernelMagics",
        "matplotlib": "PylabMagics",
        "mkdir": "Other",
        "more": "KernelMagics",
        "mv": "Other",
        "notebook": "BasicMagics",
        "page": "BasicMagics",
        "pastebin": "CodeMagics",
        "pdb": "ExecutionMagics",
        "pdef": "NamespaceMagics",
        "pdoc": "NamespaceMagics",
        "pfile": "NamespaceMagics",
        "pinfo": "NamespaceMagics",
        "pinfo2": "NamespaceMagics",
        "pip": "BasicMagics",
        "popd": "OSMagics",
        "pprint": "BasicMagics",
        "precision": "BasicMagics",
        "prun": "ExecutionMagics",
        "psearch": "NamespaceMagics",
        "psource": "NamespaceMagics",
        "pushd": "OSMagics",
        "pwd": "OSMagics",
        "pycat": "OSMagics",
        "pylab": "PylabMagics",
        "qtconsole": "KernelMagics",
        "quickref": "BasicMagics",
        "recall": "HistoryMagics",
        "rehashx": "OSMagics",
        "reload_ext": "ExtensionMagics",
        "rep": "Other",
        "rerun": "HistoryMagics",
        "reset": "NamespaceMagics",
        "reset_selective": "NamespaceMagics",
        "rm": "Other",
        "rmdir": "Other",
        "run": "ExecutionMagics",
        "save": "CodeMagics",
        "sc": "OSMagics",
        "set_env": "OSMagics",
        "store": "StoreMagics",
        "sx": "OSMagics",
        "system": "OSMagics",
        "tb": "ExecutionMagics",
        "time": "ExecutionMagics",
        "timeit": "ExecutionMagics",
        "unalias": "OSMagics",
        "unload_ext": "ExtensionMagics",
        "who": "NamespaceMagics",
        "who_ls": "NamespaceMagics",
        "whos": "NamespaceMagics",
        "xdel": "NamespaceMagics",
        "xmode": "BasicMagics"
       }
      },
      "text/plain": [
       "Available line magics:\n",
       "%alias  %alias_magic  %autoawait  %autocall  %automagic  %autosave  %bookmark  %cat  %cd  %clear  %colors  %config  %connect_info  %cp  %debug  %dhist  %dirs  %doctest_mode  %ed  %edit  %env  %gui  %hist  %history  %killbgscripts  %ldir  %less  %lf  %lk  %ll  %load  %load_ext  %loadpy  %logoff  %logon  %logstart  %logstate  %logstop  %ls  %lsmagic  %lx  %macro  %magic  %man  %matplotlib  %mkdir  %more  %mv  %notebook  %page  %pastebin  %pdb  %pdef  %pdoc  %pfile  %pinfo  %pinfo2  %popd  %pprint  %precision  %prun  %psearch  %psource  %pushd  %pwd  %pycat  %pylab  %qtconsole  %quickref  %recall  %rehashx  %reload_ext  %rep  %rerun  %reset  %reset_selective  %rm  %rmdir  %run  %save  %sc  %set_env  %store  %sx  %system  %tb  %time  %timeit  %unalias  %unload_ext  %who  %who_ls  %whos  %xdel  %xmode\n",
       "\n",
       "Available cell magics:\n",
       "%%!  %%HTML  %%SVG  %%bash  %%capture  %%debug  %%file  %%html  %%javascript  %%js  %%latex  %%markdown  %%perl  %%prun  %%pypy  %%python  %%python2  %%python3  %%ruby  %%script  %%sh  %%svg  %%sx  %%system  %%time  %%timeit  %%writefile\n",
       "\n",
       "Automagic is ON, % prefix IS NOT needed for line magics."
      ]
     },
     "execution_count": 1,
     "metadata": {},
     "output_type": "execute_result"
    }
   ],
   "source": [
    "%lsmagic\n"
   ]
  },
  {
   "cell_type": "code",
   "execution_count": 2,
   "metadata": {},
   "outputs": [
    {
     "name": "stdout",
     "output_type": "stream",
     "text": [
      "total 19240\n",
      "drwxr-xr-x  11 bsc  staff      352 10 Mär 05:41 App\n",
      "-rw-r--r--   1 bsc  staff      252 30 Nov 00:42 App.py\n",
      "drwxr-xr-x   9 bsc  staff      288  5 Mär 02:34 Data\n",
      "drwxr-xr-x  10 bsc  staff      320  5 Mär 00:49 Doku\n",
      "drwxr-xr-x  11 bsc  staff      352  9 Mär 22:01 Karteikarten\n",
      "-rw-r--r--   1 bsc  staff   109364 10 Mär 12:47 Test.ipynb\n",
      "drwxr-xr-x  18 bsc  staff      576 10 Mär 05:40 Tools\n",
      "drwxr-xr-x  29 bsc  staff      928 11 Feb 04:18 Trash\n",
      "-rw-r--r--   1 bsc  staff   191441 10 Mär 04:40 Untitled.ipynb\n",
      "drwxr-xr-x   3 bsc  staff       96 13 Feb 19:27 __pycache__\n",
      "-rw-r--r--   1 bsc  staff  8835072 29 Feb 05:51 app.db\n",
      "-rw-r--r--   1 bsc  staff      912 13 Feb 19:24 config.py\n",
      "-rw-r--r--   1 bsc  staff     2275  9 Mär 22:16 convert_images.py\n",
      "-rw-r--r--   1 bsc  staff     2109 10 Mär 03:59 hello world.ipynb\n",
      "-rw-r--r--   1 bsc  staff      143 10 Feb 01:49 init_db.sh\n",
      "drwxr-xr-x   8 bsc  staff      256 21 Feb 02:25 migrations\n",
      "-rw-r--r--   1 bsc  staff       84 10 Feb 01:49 push.sh\n",
      "-rw-r--r--   1 bsc  staff      591 30 Jan 21:07 requirements.txt\n",
      "-rw-r--r--   1 bsc  staff      317 10 Feb 21:16 reset_server.sh\n",
      "-rw-r--r--   1 bsc  staff      259 14 Feb 03:26 restart_server.sh\n",
      "-rw-r--r--   1 bsc  staff     3329 10 Mär 01:55 run_kraken.py\n",
      "-rw-r--r--   1 bsc  staff     2562  4 Mär 23:19 setup.txt\n",
      "drwxr-xr-x   8 bsc  staff      256  7 Jan 07:47 venv\n"
     ]
    }
   ],
   "source": [
    "%%bash\n",
    "ls -l"
   ]
  },
  {
   "cell_type": "code",
   "execution_count": 3,
   "metadata": {},
   "outputs": [
    {
     "name": "stdout",
     "output_type": "stream",
     "text": [
      "total 19256\r\n",
      "drwxr-xr-x  11 bsc  staff      352 10 Mär 05:41 \u001b[34mApp\u001b[m\u001b[m/\r\n",
      "-rw-r--r--   1 bsc  staff      252 30 Nov 00:42 App.py\r\n",
      "drwxr-xr-x   9 bsc  staff      288  5 Mär 02:34 \u001b[34mData\u001b[m\u001b[m/\r\n",
      "drwxr-xr-x  10 bsc  staff      320  5 Mär 00:49 \u001b[34mDoku\u001b[m\u001b[m/\r\n",
      "drwxr-xr-x  11 bsc  staff      352  9 Mär 22:01 \u001b[34mKarteikarten\u001b[m\u001b[m/\r\n",
      "-rw-r--r--   1 bsc  staff   109364 10 Mär 12:47 Test.ipynb\r\n",
      "drwxr-xr-x  18 bsc  staff      576 10 Mär 05:40 \u001b[34mTools\u001b[m\u001b[m/\r\n",
      "drwxr-xr-x  29 bsc  staff      928 11 Feb 04:18 \u001b[34mTrash\u001b[m\u001b[m/\r\n",
      "-rw-r--r--   1 bsc  staff   191441 10 Mär 04:40 Untitled.ipynb\r\n",
      "drwxr-xr-x   3 bsc  staff       96 13 Feb 19:27 \u001b[34m__pycache__\u001b[m\u001b[m/\r\n",
      "-rw-r--r--   1 bsc  staff  8835072 29 Feb 05:51 app.db\r\n",
      "-rw-r--r--   1 bsc  staff      912 13 Feb 19:24 config.py\r\n",
      "-rw-r--r--   1 bsc  staff     2275  9 Mär 22:16 convert_images.py\r\n",
      "-rw-r--r--   1 bsc  staff     9397 10 Mär 12:50 hello world.ipynb\r\n",
      "-rw-r--r--   1 bsc  staff      143 10 Feb 01:49 init_db.sh\r\n",
      "drwxr-xr-x   8 bsc  staff      256 21 Feb 02:25 \u001b[34mmigrations\u001b[m\u001b[m/\r\n",
      "-rw-r--r--   1 bsc  staff       84 10 Feb 01:49 push.sh\r\n",
      "-rw-r--r--   1 bsc  staff      591 30 Jan 21:07 requirements.txt\r\n",
      "-rw-r--r--   1 bsc  staff      317 10 Feb 21:16 reset_server.sh\r\n",
      "-rw-r--r--   1 bsc  staff      259 14 Feb 03:26 restart_server.sh\r\n",
      "-rw-r--r--   1 bsc  staff     3329 10 Mär 01:55 run_kraken.py\r\n",
      "-rw-r--r--   1 bsc  staff     2562  4 Mär 23:19 setup.txt\r\n",
      "drwxr-xr-x   8 bsc  staff      256  7 Jan 07:47 \u001b[34mvenv\u001b[m\u001b[m/\r\n"
     ]
    }
   ],
   "source": [
    "%ls -l"
   ]
  },
  {
   "cell_type": "code",
   "execution_count": 4,
   "metadata": {},
   "outputs": [
    {
     "name": "stderr",
     "output_type": "stream",
     "text": [
      "UsageError: %%perl is a cell magic, but the cell body is empty.\n"
     ]
    }
   ],
   "source": [
    "%%perl"
   ]
  },
  {
   "cell_type": "code",
   "execution_count": null,
   "metadata": {},
   "outputs": [],
   "source": []
  }
 ],
 "metadata": {
  "kernelspec": {
   "display_name": "Python 3",
   "language": "python",
   "name": "python3"
  },
  "language_info": {
   "codemirror_mode": {
    "name": "ipython",
    "version": 3
   },
   "file_extension": ".py",
   "mimetype": "text/x-python",
   "name": "python",
   "nbconvert_exporter": "python",
   "pygments_lexer": "ipython3",
   "version": "3.7.1"
  },
  "widgets": {
   "application/vnd.jupyter.widget-state+json": {
    "state": {},
    "version_major": 2,
    "version_minor": 0
   }
  }
 },
 "nbformat": 4,
 "nbformat_minor": 2
}
